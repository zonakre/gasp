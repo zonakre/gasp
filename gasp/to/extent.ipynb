{
 "cells": [
  {
   "cell_type": "markdown",
   "metadata": {},
   "source": [
    "# Geographic Extent Related #"
   ]
  },
  {
   "cell_type": "markdown",
   "metadata": {},
   "source": [
    "### Point to Boundary using tolerance in meters ###"
   ]
  },
  {
   "cell_type": "code",
   "execution_count": 1,
   "metadata": {},
   "outputs": [],
   "source": [
    "from gasp.mng.ext import points_to_boundary; import os\n",
    "\n",
    "PNT_SHP = [\n",
    "    r'D:\\indev\\OSM2LULC\\debug_may19\\pnt_eua.shp',\n",
    "    r'D:\\indev\\OSM2LULC\\debug_may19\\pnt_haiti.shp'\n",
    "]\n",
    "outSHPS = [\n",
    "    r'D:\\indev\\OSM2LULC\\debug_may19\\phila_5k.shp',\n",
    "    r'D:\\indev\\OSM2LULC\\debug_may19\\prince_5k.shp'\n",
    "]\n",
    "tolerances = 5000\n",
    "\n",
    "for i in range(len(PNT_SHP)):\n",
    "    points_to_boundary(\n",
    "            PNT_SHP[i], outSHPS[i], tolerances)"
   ]
  },
  {
   "cell_type": "markdown",
   "metadata": {},
   "source": [
    "### Data Extent to Raster ###"
   ]
  },
  {
   "cell_type": "code",
   "execution_count": null,
   "metadata": {},
   "outputs": [],
   "source": [
    "from gasp.cpu.gdl.mng.ext import shpextent_to_raster\n",
    "\n",
    "inSHP = r'C:\\indev\\cw_gisdata\\elevation_data.shp'\n",
    "outRASTER = r'C:\\indev\\cw_gisdata\\raster_referencia.tif'\n",
    "CELLSIZE = 10\n",
    "EPSG = 3763\n",
    "\n",
    "shpextent_to_raster(inSHP, outRASTER, cellsize=CELLSIZE, epsg=EPSG)"
   ]
  },
  {
   "cell_type": "markdown",
   "metadata": {},
   "source": [
    "### Top Left and Lower Right to Boundary ###"
   ]
  },
  {
   "cell_type": "code",
   "execution_count": null,
   "metadata": {},
   "outputs": [],
   "source": [
    "from gasp.cpu.gdl.mng.ext import coords_to_boundary\n",
    "\n",
    "TOP_LEFT    = (1.84546455, 41.39329288)\n",
    "LOWER_RIGHT = (2.19039458, 41.25559665)\n",
    "EPSG        = 4326\n",
    "RESULT      = r'/home/osmtolulc/catalonia/bound1.shp'\n",
    "\n",
    "coords_to_boundary(TOP_LEFT, LOWER_RIGHT, EPSG, RESULT)"
   ]
  },
  {
   "cell_type": "markdown",
   "metadata": {},
   "source": [
    "### SHP Extent to Boundary ###"
   ]
  },
  {
   "cell_type": "code",
   "execution_count": null,
   "metadata": {},
   "outputs": [],
   "source": [
    "from gasp.mng.ext import shpextent_to_boundary\n",
    "\n",
    "IN_SHP  = '/home/gisuser/sigos/concelhos.shp'\n",
    "OUT_SHP = '/home/gisuser/sigos/lmt.shp'\n",
    "\n",
    "shpextent_to_boundary(IN_SHP, OUT_SHP)"
   ]
  },
  {
   "cell_type": "code",
   "execution_count": null,
   "metadata": {},
   "outputs": [],
   "source": []
  }
 ],
 "metadata": {
  "kernelspec": {
   "display_name": "Python 2",
   "language": "python",
   "name": "python2"
  },
  "language_info": {
   "codemirror_mode": {
    "name": "ipython",
    "version": 2
   },
   "file_extension": ".py",
   "mimetype": "text/x-python",
   "name": "python",
   "nbconvert_exporter": "python",
   "pygments_lexer": "ipython2",
   "version": "2.7.14"
  }
 },
 "nbformat": 4,
 "nbformat_minor": 2
}

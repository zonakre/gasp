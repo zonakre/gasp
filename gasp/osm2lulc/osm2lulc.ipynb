{
 "cells": [
  {
   "cell_type": "markdown",
   "metadata": {},
   "source": [
    "# Download OSM Data #"
   ]
  },
  {
   "cell_type": "code",
   "execution_count": null,
   "metadata": {},
   "outputs": [],
   "source": [
    "from gasp.web.osm import download_by_boundary\n",
    "\n",
    "INTEREST_AREA = '/home/jasp/osmtolulc_debug/prince_5k.shp'\n",
    "OSMDATA       = '/home/jasp/osmtolulc_debug/osmdata/prince_5k.xml'\n",
    "EPSG          = 3857\n",
    "\n",
    "download_by_boundary(INTEREST_AREA, OSMDATA, EPSG, GetUrl=None)"
   ]
  },
  {
   "cell_type": "markdown",
   "metadata": {},
   "source": [
    "# OSM2LULC #\n",
    "\n",
    "### Parameters ###\n",
    "\n",
    "**NOMENCLATURE** - LULC maps nomenclature; options are: \"URBAN_ATLAS\"|\"CORINE_LAND_COVER\"|\"GLOBE_LAND_COVER\"\n",
    "\n",
    "**OSMDATA** - Path to file with raw OpenStreetMap data\n",
    "\n",
    "**REF_RASTER** -  Reference raster\n",
    "\n",
    "**LULC_RESULT** - Path to result\n",
    "\n",
    "**EPSG** - EPSG code of the REF_RASTER\n",
    "\n",
    "**DATA_FOLDER** - Path to folder where the temporary files will be stored"
   ]
  },
  {
   "cell_type": "code",
   "execution_count": 1,
   "metadata": {},
   "outputs": [],
   "source": [
    "import os \n",
    "\n",
    "NOMENCLATURE = \"GLOBE_LAND_30\"\n",
    "OSMDATA      = '/home/jasp/osmtolulc_debug/osmdata/phila.xml'\n",
    "REF_RASTER   = '/home/jasp/osmtolulc_debug/lmt/phila.shp'\n",
    "LULC_RESULT  = '/home/jasp/osmtolulc_debug/phila_lulc_v13.shp'\n",
    "DATA_STORE   = os.path.join(os.path.dirname(LULC_RESULT), 'phila_v13')"
   ]
  },
  {
   "cell_type": "markdown",
   "metadata": {},
   "source": [
    "### OSM2LULC - Version 1.1 ###\n",
    "\n",
    "**Dependencies**: GRASS GIS; GDAL/OGR; GeoPandas."
   ]
  },
  {
   "cell_type": "code",
   "execution_count": null,
   "metadata": {},
   "outputs": [],
   "source": [
    "from gasp.osm2lulc.grs   import vector_based\n",
    "from gasp.osm2lulc.utils import record_time_consumed\n",
    "import datetime\n",
    "from gasp.oss import get_filename\n",
    "\n",
    "time_a = datetime.datetime.now().replace(microsecond=0)\n",
    "\n",
    "lulcSHP, timeCheck = vector_based(\n",
    "    OSMDATA, NOMENCLATURE, REF_RASTER, LULC_RESULT,\n",
    "    overwrite=True, dataStore=DATA_STORE,\n",
    "    RoadsAPI=\"GRASS\"\n",
    ")\n",
    "\n",
    "time_b = datetime.datetime.now().replace(microsecond=0)\n",
    "\n",
    "record_time_consumed(timeCheck, os.path.join(\n",
    "    os.path.dirname(LULC_RESULT), get_filename(LULC_RESULT) + '.xlsx'\n",
    "))\n",
    "\n",
    "print time_b - time_a"
   ]
  },
  {
   "cell_type": "markdown",
   "metadata": {},
   "source": [
    "### OSM2LULC - Version 1.2 ###\n",
    "\n",
    "**Dependencies**: GRASS GIS; GDAL/OGR; PostGIS; GeoPandas."
   ]
  },
  {
   "cell_type": "code",
   "execution_count": null,
   "metadata": {},
   "outputs": [],
   "source": [
    "from gasp.osm2lulc.grs   import vector_based\n",
    "from gasp.osm2lulc.utils import record_time_consumed\n",
    "import datetime\n",
    "import os\n",
    "from gasp.oss import get_filename\n",
    "\n",
    "time_a = datetime.datetime.now().replace(microsecond=0)\n",
    "\n",
    "lulcSHP, timeCheck = vector_based(\n",
    "    OSMDATA, NOMENCLATURE, REF_RASTER, LULC_RESULT,\n",
    "    overwrite=True, dataStore=DATA_STORE,\n",
    "    RoadsAPI='POSTGIS'\n",
    ")\n",
    "\n",
    "time_b = datetime.datetime.now().replace(microsecond=0)\n",
    "\n",
    "record_time_consumed(timeCheck, os.path.join(\n",
    "    os.path.dirname(LULC_RESULT), get_filename(LULC_RESULT) + '.xlsx'\n",
    "))\n",
    "\n",
    "print time_b - time_a"
   ]
  },
  {
   "cell_type": "markdown",
   "metadata": {},
   "source": [
    "### OSM2LULC - Version 1.3 ###\n",
    "\n",
    "**Dependencies**: GRASS GIS; GDAL/OGR; PostGIS."
   ]
  },
  {
   "cell_type": "code",
   "execution_count": null,
   "metadata": {},
   "outputs": [
    {
     "name": "stderr",
     "output_type": "stream",
     "text": [
      "/usr/local/lib/python2.7/dist-packages/pandas/core/indexing.py:543: SettingWithCopyWarning: \n",
      "A value is trying to be set on a copy of a slice from a DataFrame.\n",
      "Try using .loc[row_indexer,col_indexer] = value instead\n",
      "\n",
      "See the caveats in the documentation: http://pandas.pydata.org/pandas-docs/stable/indexing.html#indexing-view-versus-copy\n",
      "  self.obj[item] = s\n"
     ]
    }
   ],
   "source": [
    "from gasp.osm2lulc.grs   import raster_based\n",
    "from gasp.osm2lulc.utils import record_time_consumed\n",
    "import datetime\n",
    "from gasp.oss import get_filename\n",
    "\n",
    "time_a = datetime.datetime.now().replace(microsecond=0)\n",
    "\n",
    "result, timeCheck = raster_based(\n",
    "    OSMDATA, NOMENCLATURE, REF_RASTER, LULC_RESULT,\n",
    "    overwrite=True, dataStore=DATA_STORE, roadsAPI='POSTGIS'\n",
    ")\n",
    "\n",
    "time_b = datetime.datetime.now().replace(microsecond=0)\n",
    "\n",
    "record_time_consumed(timeCheck, os.path.join(\n",
    "    os.path.dirname(LULC_RESULT), get_filename(LULC_RESULT) + '.xlsx'\n",
    "))\n",
    "\n",
    "print time_b - time_a"
   ]
  },
  {
   "cell_type": "markdown",
   "metadata": {},
   "source": [
    "### OSM2LULC - Version 1.4 ###\n",
    "\n",
    "**Dependencies**: GDAL/OGR; PostGIS; Numpy."
   ]
  },
  {
   "cell_type": "code",
   "execution_count": null,
   "metadata": {},
   "outputs": [],
   "source": [
    "from gasp.osm2lulc.num import osm2lulc\n",
    "from gasp.osm2lulc.utils import record_time_consumed\n",
    "import datetime\n",
    "import os\n",
    "from gasp.oss import get_filename\n",
    "\n",
    "time_a = datetime.datetime.now().replace(microsecond=0)\n",
    "\n",
    "result, timeobj = osm2lulc(\n",
    "    OSMDATA, NOMENCLATURE, REF_RASTER, LULC_RESULT,\n",
    "    epsg=EPSG, overwrite=True, dataStore=DATA_STORE,\n",
    "    roadsAPI='POSTGIS'\n",
    ")\n",
    "\n",
    "time_b = datetime.datetime.now().replace(microsecond=0)\n",
    "\n",
    "record_time_consumed(timeobj, os.path.join(\n",
    "    os.path.dirname(LULC_RESULT), get_filename(LULC_RESULT) + '.xlsx'\n",
    "))\n",
    "\n",
    "print time_b - time_a"
   ]
  },
  {
   "cell_type": "code",
   "execution_count": null,
   "metadata": {},
   "outputs": [],
   "source": []
  }
 ],
 "metadata": {
  "kernelspec": {
   "display_name": "Python 2",
   "language": "python",
   "name": "python2"
  },
  "language_info": {
   "codemirror_mode": {
    "name": "ipython",
    "version": 2
   },
   "file_extension": ".py",
   "mimetype": "text/x-python",
   "name": "python",
   "nbconvert_exporter": "python",
   "pygments_lexer": "ipython2",
   "version": "2.7.15rc1"
  }
 },
 "nbformat": 4,
 "nbformat_minor": 2
}
